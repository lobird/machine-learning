{
 "cells": [
  {
   "cell_type": "markdown",
   "metadata": {},
   "source": [
    "决策树（decision tree）算法可分别应用于分类与回归。其学习过程分为：**特征选择、决策树生成、决策树的修剪，**主要算法包括ID3、C4.5、CART"
   ]
  },
  {
   "cell_type": "markdown",
   "metadata": {},
   "source": [
    "# 一、特征选择"
   ]
  },
  {
   "cell_type": "markdown",
   "metadata": {},
   "source": [
    "特征选择就是选择对于样本数据具有分类能力的特征，从而提高分类决策的效率。如果利用某一个特征分类的效果与随机分类效果无疑，则可称此特征无分类能力，这样的特征舍弃也无妨。\n",
    "特征的选择准则是通过计算**信息增益**\n",
    "## 一、信息增益\n",
    "给定数据集D：<br>\n",
    "其样本数量为|D|，即样本容量；<br>\n",
    "设数据集有K个分类$C_k$，k=1,2,...，K；<br>\n",
    "$|C_k|$表示属于分类$|C_k|$的样本个数；<br>\n",
    "$\\sum_{k=1}^{K}{|C_k|}=|D|$；<br>\n",
    "根据特征A可将D分类n个子集，分别为$D_1, D_2, ..., D_n$；<br>\n",
    "$|D_i|$为$D_i$的样本个数，$\\sum_{i=1}^{n}{|D_i|}=|D|$；<br>\n",
    "集合$D_{ik}$表示子集$D_i$中属于类$C_k$的样本，即$D_{ik} = D_i \\cap C_k$；<br>\n",
    "$|D_{ik}|$表示$D_{ik}$的个数。<br>\n",
    "**信息增益算法：**<br>\n",
    "输入：训练数据集D和特征A；<br>\n",
    "输出：特征A对训练数据集D的信息增益Gain（D，A）<br>\n",
    "进一步，输出：使得信息增益Gain（D，A）最大的特征$A_v$。<br>\n",
    "\n",
    "(1)计算数据集D的经验熵$E(D)$ (entropy)\n",
    "$$\n",
    "E(D) = -\\sum_{k=1}^{K}{p_klog_2(p_k)} = -\\sum_{k=1}^{K}{\\frac{|D_k|}{|D|}log_2(\\frac{|D_k|}{|D|})}\n",
    "$$\n",
    "(2)计算特征A对数据集D的经验条件熵$E(D|A)$\n",
    "$$\n",
    "H(D|A) = -\\sum_{i=1}^{n}{p_iE(D_i)} = -\\sum_{i=1}^{n}{\\sum_{k=1}^{K}{p_iE(D_{ik})}} = -\\sum_{i=1}^{n}{\\frac{|D_{i}|}{|D|}\\sum_{k=1}^{K}{\\frac{|D_{ik}|}{|D_i|}log_2(\\frac{|D_{ik}|}{|D_i|})}}\n",
    "$$\n",
    "(3)计算信息增益\n",
    "$$\n",
    "Gain(D,A) = H(D)-H(D|A)\n",
    "$$\n",
    "\n"
   ]
  },
  {
   "cell_type": "code",
   "execution_count": 2,
   "metadata": {},
   "outputs": [],
   "source": [
    "import numpy as np\n",
    "import pandas as pd\n",
    "import matplotlib.pyplot as plt"
   ]
  },
  {
   "cell_type": "code",
   "execution_count": 3,
   "metadata": {},
   "outputs": [
    {
     "data": {
      "text/plain": [
       "(100, 5)"
      ]
     },
     "execution_count": 3,
     "metadata": {},
     "output_type": "execute_result"
    }
   ],
   "source": [
    "#数据生成\n",
    "X = np.random.randint(4,size=(100,4))\n",
    "y = np.random.randint(6,size=(100,1))\n",
    "D = pd.DataFrame(np.column_stack([X,y]))\n",
    "D.shape"
   ]
  },
  {
   "cell_type": "code",
   "execution_count": 4,
   "metadata": {},
   "outputs": [
    {
     "data": {
      "text/plain": [
       "2.507391515336053"
      ]
     },
     "execution_count": 4,
     "metadata": {},
     "output_type": "execute_result"
    }
   ],
   "source": [
    "#经验熵E（D）计算\n",
    "\n",
    "pk = D.groupby(by=D.shape[1]-1).count()[0].values/len(D)\n",
    "ED = -np.dot(pk,np.log2(pk))\n",
    "ED"
   ]
  },
  {
   "cell_type": "code",
   "execution_count": 5,
   "metadata": {},
   "outputs": [
    {
     "name": "stdout",
     "output_type": "stream",
     "text": [
      "-7.0578214254787675\n",
      "-7.194021913716226\n",
      "-7.096594945564\n",
      "-7.1360267355917575\n"
     ]
    }
   ],
   "source": [
    "#经验条件熵E（D|A）_EDK 、信息增益GAIN 计算\n",
    "A = list([])\n",
    "for v in range(D.shape[1]-1):\n",
    "    Av = D.groupby([v,D.shape[1]-1])[1].count().unstack().fillna(0)\n",
    "    Av = Av.values.astype(float)\n",
    "    \n",
    "    Av_sum = Av.sum(1)\n",
    "    EDK = 0\n",
    "    for ll in range(len(Av_sum)):\n",
    "        Av[ll] = Av[ll]* (1/(Av_sum[ll]))\n",
    "        EDK += np.dot(Av[ll],np.log2(Av[ll]))\n",
    "    EDK = -EDK\n",
    "    print(ED -  EDK)\n"
   ]
  },
  {
   "cell_type": "markdown",
   "metadata": {},
   "source": [
    "### 分析\n",
    "数据中出现\"nan\"的原因是某个$|D_{ik}|=0$，造成$\\frac{|D_{ik}|}{|D_i|}=0$,然后出现了$log_2(\\frac{|D_{ik}|}{|D_i|})=log_2(0)$的计算.<br>\n",
    "当某个特征i没有对应的分类k的样本就会出现$|D_{ik}|=0$的现象，具体说来，如西瓜书中的案例，所有西瓜进行分类，分为\"好瓜\"、\"坏瓜\"，我要通过特征\"皮的厚度\"进行再分类，该分类可分为\"厚\"、\"薄\"2类，然后发现皮\"薄\"且为\"好瓜\"的有很多个，但是皮\"厚\"且为\"好瓜\"的样本数为0，所以，当i=(\"皮的厚度\"，\"厚\")，k=（\"好瓜\"）时，就会出现$log_2(\\frac{|D_{ik}|}{|D_i|})=log_2(0)$的计算。<br>\n",
    "在本计算中，可根据实际的意义，令$log2(0) = 0$"
   ]
  },
  {
   "cell_type": "code",
   "execution_count": 6,
   "metadata": {},
   "outputs": [
    {
     "name": "stdout",
     "output_type": "stream",
     "text": [
      "-7.0578214254787675\n",
      "-7.194021913716226\n",
      "-7.096594945564\n",
      "-7.1360267355917575\n"
     ]
    }
   ],
   "source": [
    "A = list([])\n",
    "for v in range(D.shape[1]-1):\n",
    "    Av = D.groupby([v,D.shape[1]-1])[1].count().unstack().fillna(0)\n",
    "    Av = Av.values.astype(float)\n",
    "    \n",
    "    Av_sum = Av.sum(1)\n",
    "    EDK = 0\n",
    "    for ll in range(len(Av_sum)):\n",
    "        Av[ll] = Av[ll]* (1/(Av_sum[ll]))\n",
    "        tempAv = np.log2(Av[ll])\n",
    "        tempAv[np.isinf(tempAv)] = 0\n",
    "        EDK += np.dot(Av[ll],tempAv)\n",
    "    EDK = -EDK\n",
    "    print(ED -  EDK)"
   ]
  },
  {
   "cell_type": "markdown",
   "metadata": {},
   "source": [
    "虽然还是会报错， 但是结果已经没有nan了"
   ]
  },
  {
   "cell_type": "code",
   "execution_count": null,
   "metadata": {},
   "outputs": [],
   "source": []
  },
  {
   "cell_type": "markdown",
   "metadata": {},
   "source": [
    "更换一组数据"
   ]
  },
  {
   "cell_type": "code",
   "execution_count": 7,
   "metadata": {},
   "outputs": [],
   "source": [
    "def div5(data):\n",
    "    return np.rint((data - np.min(data))/(np.max(data)-np.min(data))*5)"
   ]
  },
  {
   "cell_type": "code",
   "execution_count": 8,
   "metadata": {},
   "outputs": [
    {
     "data": {
      "text/plain": [
       "(4521, 17)"
      ]
     },
     "execution_count": 8,
     "metadata": {},
     "output_type": "execute_result"
    }
   ],
   "source": [
    "#数据的读取与分类\n",
    "D = pd.read_csv('bank.csv',';')\n",
    "D.age = div5(D.age)\n",
    "D.balance = div5(D.balance)\n",
    "D.day = div5(D.day)\n",
    "D.duration = div5(D.duration)\n",
    "D.campaign = div5(D.campaign)\n",
    "D.pdays = div5(D.pdays)\n",
    "D.previous = div5(D.previous)\n",
    "D.shape"
   ]
  },
  {
   "cell_type": "code",
   "execution_count": 9,
   "metadata": {},
   "outputs": [
    {
     "data": {
      "text/plain": [
       "0.5155217894467282"
      ]
     },
     "execution_count": 9,
     "metadata": {},
     "output_type": "execute_result"
    }
   ],
   "source": [
    "n = D.shape[1]      #数据维度\n",
    "m = D.shape[0]      #样本数量\n",
    "D.columns = range(n)\n",
    "pk = D.groupby(by=n-1).count()[0].values/len(D)\n",
    "ED = -np.dot(pk,np.log2(pk))\n",
    "ED\n"
   ]
  },
  {
   "cell_type": "code",
   "execution_count": 10,
   "metadata": {},
   "outputs": [
    {
     "name": "stderr",
     "output_type": "stream",
     "text": [
      "f:\\ProgramData\\Anaconda3\\lib\\site-packages\\ipykernel_launcher.py:9: RuntimeWarning: divide by zero encountered in log2\n",
      "  if __name__ == '__main__':\n"
     ]
    },
    {
     "data": {
      "text/plain": [
       "10.0"
      ]
     },
     "execution_count": 10,
     "metadata": {},
     "output_type": "execute_result"
    }
   ],
   "source": [
    "#经验条件熵E（D|A）_EDK 、信息增益GAIN 计算\n",
    "A = list([])\n",
    "for v in range(D.shape[1]-1):\n",
    "    Av = D.groupby([v,D.shape[1]-1])[1].count().unstack().fillna(0).values.astype(float)\n",
    "    Av_sum = Av.sum(1)\n",
    "    EDK = 0\n",
    "    for ll in range(len(Av_sum)):\n",
    "        Av[ll] = Av[ll]/(Av_sum[ll])\n",
    "        tempAv = np.log2(Av[ll])\n",
    "        tempAv[np.isinf(tempAv)] = 0\n",
    "        EDK += np.dot(Av[ll],tempAv)\n",
    "    A.append([v,(ED -  EDK)])\n",
    "listGain = np.array(A)\n",
    "# maxGainIndex 表示最大Gain值特征index 下一步将根据该特征值继续进行计算。\n",
    "maxGainIndex = listGain[listGain[:,1]==listGain[:,1].max()][0,0]\n",
    "\n"
   ]
  },
  {
   "cell_type": "code",
   "execution_count": 129,
   "metadata": {},
   "outputs": [
    {
     "name": "stdout",
     "output_type": "stream",
     "text": [
      "{10.0: {'apr': 'no', 'aug': 0, 'dec': 0, 'feb': 0, 'jan': 0, 'jul': 0, 'jun': 0, 'mar': 0, 'may': 0, 'nov': 0, 'oct': 0, 'sep': 0}}\n",
      "{10.0: {'apr': 'no', 'aug': 'no', 'dec': 0, 'feb': 0, 'jan': 0, 'jul': 0, 'jun': 0, 'mar': 0, 'may': 0, 'nov': 0, 'oct': 0, 'sep': 0}}\n",
      "{10.0: {'apr': 'no', 'aug': 'no', 'dec': 'no', 'feb': 0, 'jan': 0, 'jul': 0, 'jun': 0, 'mar': 0, 'may': 0, 'nov': 0, 'oct': 0, 'sep': 0}}\n",
      "{10.0: {'apr': 'no', 'aug': 'no', 'dec': 'no', 'feb': 'no', 'jan': 0, 'jul': 0, 'jun': 0, 'mar': 0, 'may': 0, 'nov': 0, 'oct': 0, 'sep': 0}}\n",
      "{10.0: {'apr': 'no', 'aug': 'no', 'dec': 'no', 'feb': 'no', 'jan': 'no', 'jul': 0, 'jun': 0, 'mar': 0, 'may': 0, 'nov': 0, 'oct': 0, 'sep': 0}}\n",
      "{10.0: {'apr': 'no', 'aug': 'no', 'dec': 'no', 'feb': 'no', 'jan': 'no', 'jul': 'no', 'jun': 0, 'mar': 0, 'may': 0, 'nov': 0, 'oct': 0, 'sep': 0}}\n",
      "{10.0: {'apr': 'no', 'aug': 'no', 'dec': 'no', 'feb': 'no', 'jan': 'no', 'jul': 'no', 'jun': 'no', 'mar': 0, 'may': 0, 'nov': 0, 'oct': 0, 'sep': 0}}\n",
      "{10.0: {'apr': 'no', 'aug': 'no', 'dec': 'no', 'feb': 'no', 'jan': 'no', 'jul': 'no', 'jun': 'no', 'mar': 'no', 'may': 0, 'nov': 0, 'oct': 0, 'sep': 0}}\n",
      "{10.0: {'apr': 'no', 'aug': 'no', 'dec': 'no', 'feb': 'no', 'jan': 'no', 'jul': 'no', 'jun': 'no', 'mar': 'no', 'may': 'no', 'nov': 0, 'oct': 0, 'sep': 0}}\n",
      "{10.0: {'apr': 'no', 'aug': 'no', 'dec': 'no', 'feb': 'no', 'jan': 'no', 'jul': 'no', 'jun': 'no', 'mar': 'no', 'may': 'no', 'nov': 'no', 'oct': 0, 'sep': 0}}\n",
      "{10.0: {'apr': 'no', 'aug': 'no', 'dec': 'no', 'feb': 'no', 'jan': 'no', 'jul': 'no', 'jun': 'no', 'mar': 'no', 'may': 'no', 'nov': 'no', 'oct': 'no', 'sep': 0}}\n",
      "{10.0: {'apr': 'no', 'aug': 'no', 'dec': 'no', 'feb': 'no', 'jan': 'no', 'jul': 'no', 'jun': 'no', 'mar': 'no', 'may': 'no', 'nov': 'no', 'oct': 'no', 'sep': 'no'}}\n"
     ]
    }
   ],
   "source": [
    "myTree = {maxGainIndex:{}}\n",
    "myTree[maxGainIndex] = {i:0 for i in np.unique(D[maxGainIndex])}\n",
    "for i_feature in myTree[maxGainIndex]:\n",
    "    nD = D[D[maxGainIndex]==i_feature]\n",
    "    outResult = np.unique(nD[n-1])\n",
    "    if len(outResult) == 1 : \n",
    "        myTree[maxGainIndex][i_feature] = outResult\n",
    "        continue\n",
    "    elif len(outResult == 0) :\n",
    "            myTree[maxGainIndex][i_feature] = 'no'\n",
    "    else:        \n",
    "        print(nD.head(2))\n",
    "    print(myTree)\n",
    "\n",
    "\n",
    "\n",
    "\n"
   ]
  },
  {
   "cell_type": "code",
   "execution_count": 126,
   "metadata": {},
   "outputs": [
    {
     "data": {
      "text/plain": [
       "{'ab': {'a': 0, 'b': 0}, 'd': {'a': 0, 'b': 0}}"
      ]
     },
     "execution_count": 126,
     "metadata": {},
     "output_type": "execute_result"
    }
   ],
   "source": [
    "aaa = {'ab':{'a':0,'b':0}}\n",
    "ddd = ['a',\n",
    "      'b']\n",
    "aaa['d'] = {x:0 for x in ddd}\n",
    "aaa\n"
   ]
  }
 ],
 "metadata": {
  "kernelspec": {
   "display_name": "Python 3",
   "language": "python",
   "name": "python3"
  },
  "language_info": {
   "codemirror_mode": {
    "name": "ipython",
    "version": 3
   },
   "file_extension": ".py",
   "mimetype": "text/x-python",
   "name": "python",
   "nbconvert_exporter": "python",
   "pygments_lexer": "ipython3",
   "version": "3.7.1"
  }
 },
 "nbformat": 4,
 "nbformat_minor": 2
}
