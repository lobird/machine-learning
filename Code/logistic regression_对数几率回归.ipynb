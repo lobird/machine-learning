{
 "cells": [
  {
   "cell_type": "code",
   "execution_count": 120,
   "metadata": {},
   "outputs": [],
   "source": [
    "import numpy as np\n",
    "import matplotlib.pyplot as plt"
   ]
  },
  {
   "cell_type": "code",
   "execution_count": 121,
   "metadata": {},
   "outputs": [
    {
     "data": {
      "text/plain": [
       "[<matplotlib.lines.Line2D at 0x23cf178d9b0>,\n",
       " <matplotlib.lines.Line2D at 0x23cf170db38>]"
      ]
     },
     "execution_count": 121,
     "metadata": {},
     "output_type": "execute_result"
    },
    {
     "data": {
      "image/png": "[encoded data removed]",
      "text/plain": [
       "<Figure size 432x288 with 1 Axes>"
      ]
     },
     "metadata": {
      "needs_background": "light"
     },
     "output_type": "display_data"
    }
   ],
   "source": [
    "x1 = np.random.normal((3,4),1,(100,2))\n",
    "y1 = np.ones(100).reshape(100,1)\n",
    "x1 = np.column_stack((x1,y1))\n",
    "x2 = np.random.normal((9,6),1,(100,2))\n",
    "y2 = np.zeros(100).reshape(100,1)\n",
    "x2 = np.column_stack((x2,y2))\n",
    "x = np.row_stack((x1,x2))\n",
    "np.random.shuffle(x)\n",
    "plt.plot(x[:,0],x[:,1],'.','r')\n"
   ]
  },
  {
   "cell_type": "code",
   "execution_count": 122,
   "metadata": {
    "scrolled": true
   },
   "outputs": [
    {
     "data": {
      "text/plain": [
       "((200, 3), (200, 1), (3, 1))"
      ]
     },
     "execution_count": 122,
     "metadata": {},
     "output_type": "execute_result"
    }
   ],
   "source": [
    "d = x.shape[1]-1           #  d 表示数据维度\n",
    "y = np.mat(x[:,-1]).copy().T    #  y 表示数据集中，输出数据\n",
    "X = np.mat(x).copy()            #  x 表示数据集中，输入数据\n",
    "X[:,-1] = 1\n",
    "w0 = np.mat(np.ones(3)-0.5).reshape(3,1)\n",
    "X.shape , y.shape,  w0.shape"
   ]
  },
  {
   "cell_type": "code",
   "execution_count": 202,
   "metadata": {},
   "outputs": [],
   "source": [
    "def GradDesc(gX,gy,gw,alpha=1e-2):\n",
    "    xtw = gX * gw   #(200,1)\n",
    "    h = 1 / (1 + np.exp(-xtw))\n",
    "    cost1 = - gy.T * np.log(h)  #(1,200)*(200,1) = (1)    \n",
    "    cost2 = - (gy.T - 1) * np.log(1 - h) #(1,200)*(200,1) = (1)    \n",
    "    m = len(gy)\n",
    "    J0= (cost1 + cost2) / m\n",
    "    GD = ((h - y).T * x).T   #(200,1).T * (200,3) = (1,3), 在取T后为 (3,1)\n",
    "    r_w = gw - alpha * GD\n",
    "    xtw1 = gX * r_w\n",
    "    h1 = 1 / (1 + np.exp( -xtw1 ))\n",
    "    J = (- gy.T * np.log(h1) - (gy.T - 1) * np.log(1 - h1)) / m\n",
    "    #print('****',J,'****',r_w.T,'****')\n",
    "    return J,r_w"
   ]
  },
  {
   "cell_type": "code",
   "execution_count": 203,
   "metadata": {},
   "outputs": [],
   "source": [
    "JJ,ww = GradDesc(X,y,w0)\n",
    "list_jj = []\n",
    "list_jj.append(JJ)\n",
    "ii = 0\n",
    "while True:\n",
    "    JJ,ww = GradDesc(X,y,ww)\n",
    "    list_jj.append(JJ)   \n",
    "    if np.abs(JJ)<=1e-5 : break\n",
    "\n"
   ]
  },
  {
   "cell_type": "code",
   "execution_count": 204,
   "metadata": {},
   "outputs": [
    {
     "data": {
      "text/plain": [
       "0.005"
      ]
     },
     "execution_count": 204,
     "metadata": {},
     "output_type": "execute_result"
    }
   ],
   "source": [
    "#plt.plot(x[:,0],x[:,1],'.','r')\n",
    "r_h = 1 / (1 + np.exp(x * ww))\n",
    "r_y = np.where(r_h<=0.5 , 1,0)\n",
    "test = np.abs(r_y - y)\n",
    "test.sum()/len(x)"
   ]
  },
  {
   "cell_type": "code",
   "execution_count": null,
   "metadata": {},
   "outputs": [],
   "source": []
  },
  {
   "cell_type": "code",
   "execution_count": null,
   "metadata": {},
   "outputs": [],
   "source": []
  },
  {
   "cell_type": "code",
   "execution_count": null,
   "metadata": {},
   "outputs": [],
   "source": [
    "B0 = np.mat(np.ones(d+1)).reshape(d+1,1)             #B0 表示B的初始数据\n",
    "                                                             #B的大小应该是维度加1的列向量，shape为（d+1 ， 1）\n",
    "B = B0\n",
    "print(B)\n",
    "def LB_NT(Bf,xf,yf):  #牛顿法计算Bn\n",
    "    P1 = (np.exp(Bf.T * x.T)/(np.exp(Bf.T * xf.T)+1)).T\n",
    "    b1 = -xf.T * ( yf - P1)                                    #结果应为（3,1） 矩阵\n",
    "    b21 = np.multiply(P1, (1-P1))                 #结果应为\n",
    "    b22 = np.array([  xf[i].T * xf[i] * np.array(b21[i])[0][0]   for i in range(len(b21))])\n",
    "    b2 = np.mat(b22.sum(0)) #结果为3*3方阵\n",
    "    B_ = -b2.I * b1 + Bf\n",
    "    LB = (np.log(np.exp(Bf.T * xf.T)+1)-  (Bf.T*xf.T) * yf).sum()\n",
    "    print(LB ,B_.T)\n",
    "    print()\n",
    "    return B_,LB\n",
    "for n in range(25):\n",
    "    print(n)\n",
    "    B,LB = LB_NT(B,x,y)\n",
    "\n",
    "\n",
    "#LB = B.T * x.T * y+ np.log(np.exp(B.T * x.T) + 1).sum()"
   ]
  }
 ],
 "metadata": {
  "kernelspec": {
   "display_name": "Python 3",
   "language": "python",
   "name": "python3"
  },
  "language_info": {
   "codemirror_mode": {
    "name": "ipython",
    "version": 3
   },
   "file_extension": ".py",
   "mimetype": "text/x-python",
   "name": "python",
   "nbconvert_exporter": "python",
   "pygments_lexer": "ipython3",
   "version": "3.7.1"
  }
 },
 "nbformat": 4,
 "nbformat_minor": 2
}
