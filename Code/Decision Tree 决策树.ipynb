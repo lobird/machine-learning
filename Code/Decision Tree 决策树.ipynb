{
 "cells": [
  {
   "cell_type": "markdown",
   "metadata": {},
   "source": [
    "决策树（decision tree）算法可分别应用于分类与回归。其学习过程分为：**特征选择、决策树生成、决策树的修剪，**主要算法包括ID3、C4.5、CART"
   ]
  },
  {
   "cell_type": "markdown",
   "metadata": {},
   "source": [
    "# 一、特征选择"
   ]
  },
  {
   "cell_type": "markdown",
   "metadata": {},
   "source": [
    "特征选择就是选择对于样本数据具有分类能力的特征，从而提高分类决策的效率。如果利用某一个特征分类的效果与随机分类效果无疑，则可称此特征无分类能力，这样的特征舍弃也无妨。\n",
    "特征的选择准则是通过计算**信息增益**\n",
    "## 一、信息增益\n",
    "给定数据集D：<br>\n",
    "其样本数量为|D|，即样本容量；<br>\n",
    "设数据集有K个分类$C_k$，k=1,2,...，K；<br>\n",
    "$|C_k|$表示属于分类$|C_k|$的样本个数；<br>\n",
    "$\\sum_{k=1}^{K}{|C_k|}=|D|$；<br>\n",
    "根据特征A可将D分类n个子集，分别为$D_1, D_2, ..., D_n$；<br>\n",
    "$|D_i|$为$D_i$的样本个数，$\\sum_{i=1}^{n}{|D_i|}=|D|$；<br>\n",
    "集合$D_{ik}$表示子集$D_i$中属于类$C_k$的样本，即$D_{ik} = D_i \\cap C_k$；<br>\n",
    "$|D_{ik}|$表示$D_{ik}$的个数。<br>\n",
    "**信息增益算法：**<br>\n",
    "输入：训练数据集D和特征A；<br>\n",
    "输出：特征A对训练数据集D的信息增益Gain（D，A）<br>\n",
    "进一步，输出：使得信息增益Gain（D，A）最大的特征$A_v$。<br>\n",
    "\n",
    "(1)计算数据集D的经验熵$E(D)$ (entropy)\n",
    "$$\n",
    "E(D) = -\\sum_{k=1}^{K}{p_klog_2(p_k)} = -\\sum_{k=1}^{K}{\\frac{|D_k|}{|D|}log_2(\\frac{|D_k|}{|D|})}\n",
    "$$\n",
    "(2)计算特征A对数据集D的经验条件熵$E(D|A)$\n",
    "$$\n",
    "H(D|A) = -\\sum_{i=1}^{n}{p_iE(D_i)} = -\\sum_{i=1}^{n}{\\sum_{k=1}^{K}{p_iE(D_{ik})}} = -\\sum_{i=1}^{n}{\\frac{|D_{i}|}{|D|}\\sum_{k=1}^{K}{\\frac{|D_{ik}|}{|D_i|}log_2(\\frac{|D_{ik}|}{|D_i|})}}\n",
    "$$\n",
    "(3)计算信息增益\n",
    "$$\n",
    "Gain(D,A) = H(D)-H(D|A)\n",
    "$$\n",
    "\n"
   ]
  },
  {
   "cell_type": "code",
   "execution_count": 3,
   "metadata": {},
   "outputs": [],
   "source": [
    "import numpy as np\n",
    "import pandas as pd\n",
    "import matplotlib.pyplot as plt"
   ]
  },
  {
   "cell_type": "code",
   "execution_count": 4,
   "metadata": {},
   "outputs": [
    {
     "data": {
      "text/plain": [
       "(100, 5)"
      ]
     },
     "execution_count": 4,
     "metadata": {},
     "output_type": "execute_result"
    }
   ],
   "source": [
    "#数据生成\n",
    "X = np.random.randint(4,size=(100,4))\n",
    "y = np.random.randint(6,size=(100,1))\n",
    "D = pd.DataFrame(np.column_stack([X,y]))\n",
    "D.shape"
   ]
  },
  {
   "cell_type": "code",
   "execution_count": 5,
   "metadata": {},
   "outputs": [
    {
     "data": {
      "text/plain": [
       "2.529321538303107"
      ]
     },
     "execution_count": 5,
     "metadata": {},
     "output_type": "execute_result"
    }
   ],
   "source": [
    "#经验熵E（D）计算\n",
    "\n",
    "pk = D.groupby(by=len(D)-1).count()[0].values/len(D)\n",
    "ED = -np.dot(pk,np.log2(pk))\n",
    "ED"
   ]
  },
  {
   "cell_type": "code",
   "execution_count": 6,
   "metadata": {},
   "outputs": [
    {
     "name": "stdout",
     "output_type": "stream",
     "text": [
      "-7.2959804738655745\n",
      "nan\n",
      "nan\n",
      "-7.079603770490115\n"
     ]
    }
   ],
   "source": [
    "#经验条件熵E（D|A）_EDK 、信息增益GAIN 计算\n",
    "A = list([])\n",
    "for v in range(D.shape[1]-1):\n",
    "    Av = D.groupby([v,D.shape[1]-1])[1].count().unstack().values.astype(float)\n",
    "    Av_sum = Av.sum(1)\n",
    "    EDK = 0\n",
    "    for ll in range(len(Av_sum)):\n",
    "        Av[ll] = Av[ll]/(Av_sum[ll])\n",
    "        EDK += np.dot(Av[ll],np.log2(Av[ll]))\n",
    "    EDK = -EDK\n",
    "    print(ED -  EDK)\n"
   ]
  },
  {
   "cell_type": "markdown",
   "metadata": {},
   "source": [
    "更换一组数据"
   ]
  },
  {
   "cell_type": "code",
   "execution_count": 22,
   "metadata": {},
   "outputs": [],
   "source": [
    "def div5(data):\n",
    "    return np.rint((data - np.min(data))/(np.max(data)-np.min(data))*5)"
   ]
  },
  {
   "cell_type": "code",
   "execution_count": 29,
   "metadata": {},
   "outputs": [
    {
     "data": {
      "text/plain": [
       "(4521, 17)"
      ]
     },
     "execution_count": 29,
     "metadata": {},
     "output_type": "execute_result"
    }
   ],
   "source": [
    "#数据的读取与分类\n",
    "D = pd.read_csv('bank.csv',';')\n",
    "D.age = div5(D.age)\n",
    "D.balance = div5(D.balance)\n",
    "D.day = div5(D.day)\n",
    "D.duration = div5(D.duration)\n",
    "D.campaign = div5(D.campaign)\n",
    "D.pdays = div5(D.pdays)\n",
    "D.previous = div5(D.previous)\n",
    "D.shape"
   ]
  },
  {
   "cell_type": "code",
   "execution_count": 38,
   "metadata": {},
   "outputs": [
    {
     "data": {
      "text/plain": [
       "0.5155217894467282"
      ]
     },
     "execution_count": 38,
     "metadata": {},
     "output_type": "execute_result"
    }
   ],
   "source": [
    "n = D.shape[1]      #数据维度\n",
    "m = D.shape[0]      #样本数量\n",
    "D.columns = range(n)\n",
    "pk = D.groupby(by=n-1).count()[0].values/len(D)\n",
    "ED = -np.dot(pk,np.log2(pk))\n",
    "ED\n"
   ]
  },
  {
   "cell_type": "code",
   "execution_count": 40,
   "metadata": {},
   "outputs": [
    {
     "name": "stdout",
     "output_type": "stream",
     "text": [
      "4.716651116094781\n",
      "7.127428836824998\n",
      "2.164038659853548\n",
      "2.5209850278748576\n",
      "1.555688753041983\n",
      "nan\n",
      "1.556719151904955\n",
      "1.3947652767999186\n",
      "1.9789001662516825\n",
      "3.60128421338871\n",
      "8.529812570873268\n",
      "nan\n",
      "nan\n",
      "5.27590146027835\n",
      "nan\n",
      "3.1559896334373962\n"
     ]
    }
   ],
   "source": [
    "#经验条件熵E（D|A）_EDK 、信息增益GAIN 计算\n",
    "A = list([])\n",
    "for v in range(D.shape[1]-1):\n",
    "    Av = D.groupby([v,D.shape[1]-1])[1].count().unstack().values.astype(float)\n",
    "    Av_sum = Av.sum(1)\n",
    "    EDK = 0\n",
    "    for ll in range(len(Av_sum)):\n",
    "        Av[ll] = Av[ll]/(Av_sum[ll])\n",
    "        EDK += np.dot(Av[ll],np.log2(Av[ll]))\n",
    "    #EDK = -EDK\n",
    "    print(ED -  EDK)"
   ]
  },
  {
   "cell_type": "code",
   "execution_count": 42,
   "metadata": {},
   "outputs": [
    {
     "data": {
      "text/plain": [
       "array(['failure', 'other', 'success', 'unknown'], dtype=object)"
      ]
     },
     "execution_count": 42,
     "metadata": {},
     "output_type": "execute_result"
    }
   ],
   "source": [
    "np.unique(D[15])"
   ]
  },
  {
   "cell_type": "code",
   "execution_count": 41,
   "metadata": {},
   "outputs": [
    {
     "data": {
      "text/html": [
       "<div>\n",
       "<style scoped>\n",
       "    .dataframe tbody tr th:only-of-type {\n",
       "        vertical-align: middle;\n",
       "    }\n",
       "\n",
       "    .dataframe tbody tr th {\n",
       "        vertical-align: top;\n",
       "    }\n",
       "\n",
       "    .dataframe thead th {\n",
       "        text-align: right;\n",
       "    }\n",
       "</style>\n",
       "<table border=\"1\" class=\"dataframe\">\n",
       "  <thead>\n",
       "    <tr style=\"text-align: right;\">\n",
       "      <th></th>\n",
       "      <th>0</th>\n",
       "      <th>1</th>\n",
       "      <th>2</th>\n",
       "      <th>3</th>\n",
       "      <th>4</th>\n",
       "      <th>5</th>\n",
       "      <th>6</th>\n",
       "      <th>7</th>\n",
       "      <th>8</th>\n",
       "      <th>9</th>\n",
       "      <th>10</th>\n",
       "      <th>11</th>\n",
       "      <th>12</th>\n",
       "      <th>13</th>\n",
       "      <th>14</th>\n",
       "      <th>15</th>\n",
       "      <th>16</th>\n",
       "    </tr>\n",
       "  </thead>\n",
       "  <tbody>\n",
       "    <tr>\n",
       "      <th>0</th>\n",
       "      <td>1.0</td>\n",
       "      <td>unemployed</td>\n",
       "      <td>married</td>\n",
       "      <td>primary</td>\n",
       "      <td>no</td>\n",
       "      <td>0.0</td>\n",
       "      <td>no</td>\n",
       "      <td>no</td>\n",
       "      <td>cellular</td>\n",
       "      <td>3.0</td>\n",
       "      <td>oct</td>\n",
       "      <td>0.0</td>\n",
       "      <td>0.0</td>\n",
       "      <td>0.0</td>\n",
       "      <td>0.0</td>\n",
       "      <td>unknown</td>\n",
       "      <td>no</td>\n",
       "    </tr>\n",
       "    <tr>\n",
       "      <th>1</th>\n",
       "      <td>1.0</td>\n",
       "      <td>services</td>\n",
       "      <td>married</td>\n",
       "      <td>secondary</td>\n",
       "      <td>no</td>\n",
       "      <td>1.0</td>\n",
       "      <td>yes</td>\n",
       "      <td>yes</td>\n",
       "      <td>cellular</td>\n",
       "      <td>2.0</td>\n",
       "      <td>may</td>\n",
       "      <td>0.0</td>\n",
       "      <td>0.0</td>\n",
       "      <td>2.0</td>\n",
       "      <td>1.0</td>\n",
       "      <td>failure</td>\n",
       "      <td>no</td>\n",
       "    </tr>\n",
       "    <tr>\n",
       "      <th>2</th>\n",
       "      <td>1.0</td>\n",
       "      <td>management</td>\n",
       "      <td>single</td>\n",
       "      <td>tertiary</td>\n",
       "      <td>no</td>\n",
       "      <td>0.0</td>\n",
       "      <td>yes</td>\n",
       "      <td>no</td>\n",
       "      <td>cellular</td>\n",
       "      <td>2.0</td>\n",
       "      <td>apr</td>\n",
       "      <td>0.0</td>\n",
       "      <td>0.0</td>\n",
       "      <td>2.0</td>\n",
       "      <td>0.0</td>\n",
       "      <td>failure</td>\n",
       "      <td>no</td>\n",
       "    </tr>\n",
       "    <tr>\n",
       "      <th>3</th>\n",
       "      <td>1.0</td>\n",
       "      <td>management</td>\n",
       "      <td>married</td>\n",
       "      <td>tertiary</td>\n",
       "      <td>no</td>\n",
       "      <td>0.0</td>\n",
       "      <td>yes</td>\n",
       "      <td>yes</td>\n",
       "      <td>unknown</td>\n",
       "      <td>0.0</td>\n",
       "      <td>jun</td>\n",
       "      <td>0.0</td>\n",
       "      <td>0.0</td>\n",
       "      <td>0.0</td>\n",
       "      <td>0.0</td>\n",
       "      <td>unknown</td>\n",
       "      <td>no</td>\n",
       "    </tr>\n",
       "    <tr>\n",
       "      <th>4</th>\n",
       "      <td>3.0</td>\n",
       "      <td>blue-collar</td>\n",
       "      <td>married</td>\n",
       "      <td>secondary</td>\n",
       "      <td>no</td>\n",
       "      <td>0.0</td>\n",
       "      <td>yes</td>\n",
       "      <td>no</td>\n",
       "      <td>unknown</td>\n",
       "      <td>1.0</td>\n",
       "      <td>may</td>\n",
       "      <td>0.0</td>\n",
       "      <td>0.0</td>\n",
       "      <td>0.0</td>\n",
       "      <td>0.0</td>\n",
       "      <td>unknown</td>\n",
       "      <td>no</td>\n",
       "    </tr>\n",
       "  </tbody>\n",
       "</table>\n",
       "</div>"
      ],
      "text/plain": [
       "    0            1        2          3   4    5    6    7         8    9   \\\n",
       "0  1.0   unemployed  married    primary  no  0.0   no   no  cellular  3.0   \n",
       "1  1.0     services  married  secondary  no  1.0  yes  yes  cellular  2.0   \n",
       "2  1.0   management   single   tertiary  no  0.0  yes   no  cellular  2.0   \n",
       "3  1.0   management  married   tertiary  no  0.0  yes  yes   unknown  0.0   \n",
       "4  3.0  blue-collar  married  secondary  no  0.0  yes   no   unknown  1.0   \n",
       "\n",
       "    10   11   12   13   14       15  16  \n",
       "0  oct  0.0  0.0  0.0  0.0  unknown  no  \n",
       "1  may  0.0  0.0  2.0  1.0  failure  no  \n",
       "2  apr  0.0  0.0  2.0  0.0  failure  no  \n",
       "3  jun  0.0  0.0  0.0  0.0  unknown  no  \n",
       "4  may  0.0  0.0  0.0  0.0  unknown  no  "
      ]
     },
     "execution_count": 41,
     "metadata": {},
     "output_type": "execute_result"
    }
   ],
   "source": [
    "D.head()"
   ]
  }
 ],
 "metadata": {
  "kernelspec": {
   "display_name": "Python 3",
   "language": "python",
   "name": "python3"
  },
  "language_info": {
   "codemirror_mode": {
    "name": "ipython",
    "version": 3
   },
   "file_extension": ".py",
   "mimetype": "text/x-python",
   "name": "python",
   "nbconvert_exporter": "python",
   "pygments_lexer": "ipython3",
   "version": "3.7.1"
  }
 },
 "nbformat": 4,
 "nbformat_minor": 2
}
