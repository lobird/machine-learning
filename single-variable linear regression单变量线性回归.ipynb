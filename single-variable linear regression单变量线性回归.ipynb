{
 "cells": [
  {
   "cell_type": "code",
   "execution_count": 1,
   "metadata": {},
   "outputs": [],
   "source": [
    "import numpy as np\n",
    "import matplotlib.pyplot as plt"
   ]
  },
  {
   "cell_type": "code",
   "execution_count": 2,
   "metadata": {},
   "outputs": [
    {
     "data": {
      "text/plain": [
       "[<matplotlib.lines.Line2D at 0x1fb10ef0dd8>,\n",
       " <matplotlib.lines.Line2D at 0x1fb10efc208>]"
      ]
     },
     "execution_count": 2,
     "metadata": {},
     "output_type": "execute_result"
    },
    {
     "data": {
      "image/png": "[encoded data removed]",
      "text/plain": [
       "<Figure size 432x288 with 1 Axes>"
      ]
     },
     "metadata": {
      "needs_background": "light"
     },
     "output_type": "display_data"
    }
   ],
   "source": [
    "#随机生成样本\n",
    "x = np.linspace(1,10)\n",
    "k = -np.random.rand(50)*65.5 \n",
    "kb = np.random.rand(50)*22.5 \n",
    "y = x * k + kb\n",
    "\n",
    "plt.plot(x,y,'.','r')"
   ]
  },
  {
   "cell_type": "code",
   "execution_count": 3,
   "metadata": {},
   "outputs": [],
   "source": [
    "def Gred_Desc(gX,gy,gw,alpha=1):\n",
    "    J0 = np.mean(gX * gw - gy)\n",
    "    GD = alpha * J0 * gX.mean(0).T\n",
    "    w1 = gw - GD\n",
    "    J = np.linalg.norm(gX * w1 - gy)  \n",
    "    return J,w1\n",
    "def Gred_Desc_Loop(gX,gy,gw,alpha=1):\n",
    "    J0 = np.mean(gX * gw - gy)\n",
    "    GD = alpha * J0 * gX.mean(0).T\n",
    "    w1 = gw - GD\n",
    "    J = np.linalg.norm(gX * w1 - gy)  \n",
    "    a = alpha\n",
    "    print(np.abs(GD))\n",
    "    if np.linalg.norm(GD)<1e-3:\n",
    "        return J,w1\n",
    "    else:\n",
    "        Gred_Desc_Loop(gX,gy,w1,alpha=a)\n",
    "def GD_Loop(gX,gy,gw,alpha=1):\n",
    "    "
   ]
  },
  {
   "cell_type": "code",
   "execution_count": 4,
   "metadata": {},
   "outputs": [
    {
     "name": "stdout",
     "output_type": "stream",
     "text": [
      "[[6.20844918]\n",
      " [1.12880894]]\n",
      "[[4.26830881]\n",
      " [0.77605615]]\n",
      "[[2.93446231]\n",
      " [0.5335386 ]]\n",
      "[[2.01744284]\n",
      " [0.36680779]]\n",
      "[[1.38699195]\n",
      " [0.25218035]]\n",
      "[[0.95355697]\n",
      " [0.17337399]]\n",
      "[[0.65557041]\n",
      " [0.11919462]]\n",
      "[[0.45070466]\n",
      " [0.0819463 ]]\n",
      "[[0.30985945]\n",
      " [0.05633808]]\n",
      "[[0.21302837]\n",
      " [0.03873243]]\n",
      "[[0.14645701]\n",
      " [0.02662855]]\n",
      "[[0.10068919]\n",
      " [0.01830713]]\n",
      "[[0.06922382]\n",
      " [0.01258615]]\n",
      "[[0.04759138]\n",
      " [0.00865298]]\n",
      "[[0.03271907]\n",
      " [0.00594892]]\n",
      "[[0.02249436]\n",
      " [0.00408988]]\n",
      "[[0.01546487]\n",
      " [0.0028118 ]]\n",
      "[[0.0106321 ]\n",
      " [0.00193311]]\n",
      "[[0.00730957]\n",
      " [0.00132901]]\n",
      "[[0.00502533]\n",
      " [0.0009137 ]]\n",
      "[[0.00345491]\n",
      " [0.00062817]]\n",
      "[[0.00237525]\n",
      " [0.00043186]]\n",
      "[[0.00163299]\n",
      " [0.00029691]]\n",
      "[[0.00112268]\n",
      " [0.00020412]]\n",
      "[[0.00077184]\n",
      " [0.00014033]]\n"
     ]
    },
    {
     "ename": "TypeError",
     "evalue": "cannot unpack non-iterable NoneType object",
     "output_type": "error",
     "traceback": [
      "\u001b[1;31m---------------------------------------------------------------------------\u001b[0m",
      "\u001b[1;31mTypeError\u001b[0m                                 Traceback (most recent call last)",
      "\u001b[1;32m<ipython-input-4-3e2b6ee2beee>\u001b[0m in \u001b[0;36m<module>\u001b[1;34m\u001b[0m\n\u001b[0;32m      9\u001b[0m \u001b[1;31m#    List_J.append(J)\u001b[0m\u001b[1;33m\u001b[0m\u001b[1;33m\u001b[0m\u001b[1;33m\u001b[0m\u001b[0m\n\u001b[0;32m     10\u001b[0m \u001b[1;31m#print(J,w.T)\u001b[0m\u001b[1;33m\u001b[0m\u001b[1;33m\u001b[0m\u001b[1;33m\u001b[0m\u001b[0m\n\u001b[1;32m---> 11\u001b[1;33m \u001b[0mJ\u001b[0m\u001b[1;33m,\u001b[0m\u001b[0mw\u001b[0m \u001b[1;33m=\u001b[0m \u001b[0mGred_Desc_Loop\u001b[0m\u001b[1;33m(\u001b[0m\u001b[0mX\u001b[0m\u001b[1;33m,\u001b[0m\u001b[0my1\u001b[0m\u001b[1;33m,\u001b[0m\u001b[0mw\u001b[0m\u001b[1;33m,\u001b[0m\u001b[0malpha\u001b[0m\u001b[1;33m=\u001b[0m\u001b[1;36m1e-2\u001b[0m\u001b[1;33m)\u001b[0m\u001b[1;33m\u001b[0m\u001b[1;33m\u001b[0m\u001b[0m\n\u001b[0m\u001b[0;32m     12\u001b[0m \u001b[1;33m\u001b[0m\u001b[0m\n\u001b[0;32m     13\u001b[0m \u001b[0my_\u001b[0m \u001b[1;33m=\u001b[0m \u001b[0mnp\u001b[0m\u001b[1;33m.\u001b[0m\u001b[0marray\u001b[0m\u001b[1;33m(\u001b[0m\u001b[0mX\u001b[0m \u001b[1;33m*\u001b[0m \u001b[0mw\u001b[0m\u001b[1;33m)\u001b[0m\u001b[1;33m\u001b[0m\u001b[1;33m\u001b[0m\u001b[0m\n",
      "\u001b[1;31mTypeError\u001b[0m: cannot unpack non-iterable NoneType object"
     ]
    }
   ],
   "source": [
    "m = len(x)    #样本数量\n",
    "w0 = np.mat([0,0]).T\n",
    "X = np.mat([x,np.ones(m)]).T\n",
    "y1 = np.mat(y).T\n",
    "J,w = Gred_Desc(X,y1,w0,alpha=1e-2)\n",
    "List_J = []\n",
    "#for i in range(1123):\n",
    "#    J,w = Gred_Desc(X,y1,w,alpha=1e-2)\n",
    "#    List_J.append(J)\n",
    "#print(J,w.T)\n",
    "J,w = Gred_Desc_Loop(X,y1,w,alpha=1e-2)\n",
    "\n",
    "y_ = np.array(X * w)\n",
    "fig = plt.figure()\n",
    "ax1 = fig.add_subplot(2,1,1)\n",
    "ax2 = fig.add_subplot(2,1,2)\n",
    "ax1.plot(x,y,'.','r')\n",
    "ax1.plot(x,y_,'-','r')\n",
    "\n",
    "#List = np.array(List_J).T\n",
    "#ax2.plot(List)\n"
   ]
  },
  {
   "cell_type": "markdown",
   "metadata": {},
   "source": [
    "算法基本成功。\n",
    "但是留下一个非常大的遗憾，即使算法对于w0初值的选取非常敏感。同时对于不同的数据集有不同的结果。\n",
    "所以正式使用的线性回归+梯度下降必须要对初值有一个严格的估算！\n",
    "感觉上，始终的梯度项GD是随着J的变化而变化的，但是因为样本本身就是随机的，所以J的值再小，也不会小到等于0，所以如果无限制的梯度下降，很容易就会把值做过了！\n",
    "仔细分析后，发现J的算法有问题，把本来可以为负数的改成了范数。\n",
    "现在算法可以了\n"
   ]
  }
 ],
 "metadata": {
  "kernelspec": {
   "display_name": "Python 3",
   "language": "python",
   "name": "python3"
  },
  "language_info": {
   "codemirror_mode": {
    "name": "ipython",
    "version": 3
   },
   "file_extension": ".py",
   "mimetype": "text/x-python",
   "name": "python",
   "nbconvert_exporter": "python",
   "pygments_lexer": "ipython3",
   "version": "3.7.1"
  }
 },
 "nbformat": 4,
 "nbformat_minor": 2
}
