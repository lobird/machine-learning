{
 "cells": [
  {
   "cell_type": "code",
   "execution_count": 273,
   "metadata": {},
   "outputs": [],
   "source": [
    "import numpy as np\n",
    "import matplotlib.pyplot as plt"
   ]
  },
  {
   "cell_type": "code",
   "execution_count": 274,
   "metadata": {},
   "outputs": [
    {
     "data": {
      "text/plain": [
       "[<matplotlib.lines.Line2D at 0x2d5ff54a518>,\n",
       " <matplotlib.lines.Line2D at 0x2d5ff4b8358>]"
      ]
     },
     "execution_count": 274,
     "metadata": {},
     "output_type": "execute_result"
    },
    {
     "data": {
      "image/png": "[encoded data removed]",
      "text/plain": [
       "<Figure size 432x288 with 1 Axes>"
      ]
     },
     "metadata": {
      "needs_background": "light"
     },
     "output_type": "display_data"
    }
   ],
   "source": [
    "#随机生成样本\n",
    "x = np.linspace(1,10)\n",
    "k = -np.random.rand(50)*65.5 \n",
    "kb = np.random.rand(50)*22.5 \n",
    "y = x * k + kb\n",
    "\n",
    "plt.plot(x,y,'.','r')"
   ]
  },
  {
   "cell_type": "code",
   "execution_count": 277,
   "metadata": {},
   "outputs": [],
   "source": [
    "def Gred_Desc(gX,gy,gw,alpha=1):\n",
    "    J0 = np.mean(gX * gw - gy)\n",
    "    GD = alpha * J0 * gX.mean(0).T\n",
    "    w1 = gw - GD\n",
    "    J = np.linalg.norm(gX * w1 - gy)  \n",
    "    return J,w1"
   ]
  },
  {
   "cell_type": "code",
   "execution_count": 278,
   "metadata": {},
   "outputs": [
    {
     "name": "stdout",
     "output_type": "stream",
     "text": [
      "700.2643219171969 [[-27.62147039  -5.02208553]]\n"
     ]
    },
    {
     "data": {
      "text/plain": [
       "matrix([[-27.62147039],\n",
       "        [ -5.02208553]])"
      ]
     },
     "execution_count": 278,
     "metadata": {},
     "output_type": "execute_result"
    },
    {
     "data": {
      "image/png": "[encoded data removed]",
      "text/plain": [
       "<Figure size 432x288 with 2 Axes>"
      ]
     },
     "metadata": {
      "needs_background": "light"
     },
     "output_type": "display_data"
    }
   ],
   "source": [
    "m = len(x)    #样本数量\n",
    "w0 = np.mat([0,0]).T\n",
    "X = np.mat([x,np.ones(m)]).T\n",
    "y1 = np.mat(y).T\n",
    "J,w = Gred_Desc(X,y1,w0,alpha=1e-2)\n",
    "List_J = []\n",
    "for i in range(1123):\n",
    "    J,w = Gred_Desc(X,y1,w,alpha=1e-2)\n",
    "    List_J.append(J)\n",
    "print(J,w.T)\n",
    "y_ = np.array(X * w)\n",
    "fig = plt.figure()\n",
    "ax1 = fig.add_subplot(2,1,1)\n",
    "ax2 = fig.add_subplot(2,1,2)\n",
    "ax1.plot(x,y,'.','r')\n",
    "ax1.plot(x,y_,'-','r')\n",
    "\n",
    "List = np.array(List_J).T\n",
    "ax2.plot(List)\n",
    "w"
   ]
  },
  {
   "cell_type": "markdown",
   "metadata": {},
   "source": [
    "算法基本成功。\n",
    "但是留下一个非常大的遗憾，即使算法对于w0初值的选取非常敏感。同时对于不同的数据集有不同的结果。\n",
    "所以正式使用的线性回归+梯度下降必须要对初值有一个严格的估算！\n",
    "感觉上，始终的梯度项GD是随着J的变化而变化的，但是因为样本本身就是随机的，所以J的值再小，也不会小到等于0，所以如果无限制的梯度下降，很容易就会把值做过了！\n",
    "仔细分析后，发现J的算法有问题，把本来可以为负数的改成了范数。\n",
    "现在算法可以了\n"
   ]
  }
 ],
 "metadata": {
  "kernelspec": {
   "display_name": "Python 3",
   "language": "python",
   "name": "python3"
  },
  "language_info": {
   "codemirror_mode": {
    "name": "ipython",
    "version": 3
   },
   "file_extension": ".py",
   "mimetype": "text/x-python",
   "name": "python",
   "nbconvert_exporter": "python",
   "pygments_lexer": "ipython3",
   "version": "3.7.1"
  }
 },
 "nbformat": 4,
 "nbformat_minor": 2
}
